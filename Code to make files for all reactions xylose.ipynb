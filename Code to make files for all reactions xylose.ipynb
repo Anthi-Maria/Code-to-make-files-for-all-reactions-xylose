{
 "cells": [
  {
   "cell_type": "code",
   "execution_count": 1,
   "id": "bbf3f748",
   "metadata": {},
   "outputs": [
    {
     "name": "stdout",
     "output_type": "stream",
     "text": [
      "Academic license - for non-commercial use only - expires 2024-03-07\n",
      "Using license file /home/schwartzlab/gurobi.lic\n"
     ]
    }
   ],
   "source": [
    "import numpy as np\n",
    "import pandas as pd\n",
    "import cobra.test\n",
    "import os\n",
    "\n",
    "from os.path import join\n",
    "\n",
    "from time import time\n",
    "\n",
    "\n",
    "from cobra.flux_analysis import (\n",
    "    single_gene_deletion, single_reaction_deletion, double_gene_deletion,\n",
    "    double_reaction_deletion)\n",
    "\n",
    "import cobra\n",
    "from cobra.test import create_test_model\n",
    "cobra_config = cobra.Configuration()\n",
    "cobra_config.solver = \"gurobi\"\n",
    "model = create_test_model(\"textbook\")\n",
    "model.solver\n",
    "\n",
    "a = cobra.io.read_sbml_model(\"iEC1344_C.xml\")\n"
   ]
  },
  {
   "cell_type": "code",
   "execution_count": 2,
   "id": "75686bae",
   "metadata": {},
   "outputs": [],
   "source": [
    "a.reactions.EX_xyl__D_e.lower_bound= -10\n",
    "a.reactions.EX_xyl__D_e.upper_bound= 1000\n",
    "\n",
    "a.reactions.EX_glc__D_e.lower_bound= 0\n",
    "a.reactions.EX_glc__D_e.upper_bound= 0\n"
   ]
  },
  {
   "cell_type": "code",
   "execution_count": 3,
   "id": "91a11f20",
   "metadata": {},
   "outputs": [
    {
     "name": "stdout",
     "output_type": "stream",
     "text": [
      "<Solution 0.806 at 0x7fccc43b50d0>\n"
     ]
    },
    {
     "data": {
      "text/plain": [
       "0.8061166555676651"
      ]
     },
     "execution_count": 3,
     "metadata": {},
     "output_type": "execute_result"
    }
   ],
   "source": [
    "solution = a.optimize()\n",
    "print(solution)\n",
    "\n",
    "solution.objective_value\n"
   ]
  },
  {
   "cell_type": "code",
   "execution_count": null,
   "id": "f8e563dc",
   "metadata": {},
   "outputs": [
    {
     "name": "stderr",
     "output_type": "stream",
     "text": [
      "/home/schwartzlab/miniconda3/lib/python3.8/site-packages/cobra/util/solver.py:508: UserWarning: Solver status is 'infeasible'.\n",
      "  warn(f\"Solver status is '{status}'.\", UserWarning)\n"
     ]
    }
   ],
   "source": [
    "fmin = -1000\n",
    "fmax = 1000\n",
    "i = -1\n",
    "\n",
    "while i< 2727:\n",
    "    x = list()    # x and y need to be reinitialised for each new reaction\n",
    "    y = list()\n",
    "    f = fmin      # define a new variable to change the flux, fmin should remain a fixed value\n",
    "\n",
    "    i = i + 1\n",
    "    r = a.reactions[i]\n",
    "    r_id = r.id\n",
    "\n",
    "    foriginalmax = a.reactions.get_by_id(r_id).upper_bound\n",
    "    foriginalmin = a.reactions.get_by_id(r_id).lower_bound\n",
    "    a.reactions.get_by_id(r_id).lower_bound = a.reactions.get_by_id(r_id).upper_bound = f\n",
    "\n",
    "    while f <= fmax:\n",
    "        a.reactions.get_by_id(r_id).lower_bound = a.reactions.get_by_id(r_id).upper_bound = f\n",
    "        \n",
    "        solution = a.optimize()\n",
    "        ov_new = solution.objective_value\n",
    "\n",
    "        x.append(f)\n",
    "        y.append(ov_new)\n",
    "\n",
    "        f = f + 10\n",
    "\n",
    "    d = pd.DataFrame(x, columns = ['flux'])\n",
    "    d2 = pd.DataFrame(y, columns = ['Biomass'])\n",
    "    d['Biomass'] = d2['Biomass']\n",
    "    biomass_per_flux = d.to_csv('biomass_per_flux_for_reaction_{}_xylose.csv'.format(r_id), index = True)\n",
    "    a.reactions.get_by_id(r_id).lower_bound = foriginalmin\n",
    "    a.reactions.get_by_id(r_id).upper_bound = foriginalmax\n",
    "    "
   ]
  },
  {
   "cell_type": "code",
   "execution_count": null,
   "id": "1e1a53c9",
   "metadata": {},
   "outputs": [],
   "source": []
  }
 ],
 "metadata": {
  "kernelspec": {
   "display_name": "Python 3",
   "language": "python",
   "name": "python3"
  },
  "language_info": {
   "codemirror_mode": {
    "name": "ipython",
    "version": 3
   },
   "file_extension": ".py",
   "mimetype": "text/x-python",
   "name": "python",
   "nbconvert_exporter": "python",
   "pygments_lexer": "ipython3",
   "version": "3.8.3"
  }
 },
 "nbformat": 4,
 "nbformat_minor": 5
}
